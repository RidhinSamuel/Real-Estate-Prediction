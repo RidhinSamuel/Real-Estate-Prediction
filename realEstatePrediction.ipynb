{
 "cells": [
  {
   "cell_type": "code",
   "execution_count": 8,
   "metadata": {},
   "outputs": [],
   "source": [
    "# importing necassery packages\n",
    "import pandas as pd\n",
    "import numpy as np\n",
    "import seaborn as sns\n",
    "import matplotlib.pyplot as plt\n",
    "#%matplotlib inline` is a magic command in Jupyter notebooks that allows plots to be displayed directly within the notebook. \n",
    "pd.options.display.float_format = '{:,.2f}'.format  # Set to two decimal places, for example\n",
    "\n",
    "%matplotlib inline\n",
    "import matplotlib\n",
    "import warnings\n",
    "warnings.filterwarnings('ignore')\n",
    "matplotlib.rcParams[\"figure.figsize\"] = (20,10)"
   ]
  },
  {
   "cell_type": "markdown",
   "metadata": {},
   "source": [
    "## Data Cleaning\n",
    "Remove rows with missing values and understanding dataset.There are some data that are ambiguous like room with 42 bedrooms whihc are ambiguous and needs to be removed."
   ]
  },
  {
   "cell_type": "code",
   "execution_count": 9,
   "metadata": {},
   "outputs": [
    {
     "name": "stdout",
     "output_type": "stream",
     "text": [
      "Index(['area_type', 'availability', 'location', 'size', 'society',\n",
      "       'total_sqft', 'bath', 'balcony', 'price'],\n",
      "      dtype='object')\n"
     ]
    }
   ],
   "source": [
    "df=pd.read_csv(\"Bengaluru_House_Data.csv\")\n",
    "print(df.columns)"
   ]
  },
  {
   "cell_type": "code",
   "execution_count": 10,
   "metadata": {},
   "outputs": [
    {
     "data": {
      "text/html": [
       "<div>\n",
       "<style scoped>\n",
       "    .dataframe tbody tr th:only-of-type {\n",
       "        vertical-align: middle;\n",
       "    }\n",
       "\n",
       "    .dataframe tbody tr th {\n",
       "        vertical-align: top;\n",
       "    }\n",
       "\n",
       "    .dataframe thead th {\n",
       "        text-align: right;\n",
       "    }\n",
       "</style>\n",
       "<table border=\"1\" class=\"dataframe\">\n",
       "  <thead>\n",
       "    <tr style=\"text-align: right;\">\n",
       "      <th></th>\n",
       "      <th>location</th>\n",
       "      <th>size</th>\n",
       "      <th>total_sqft</th>\n",
       "      <th>bath</th>\n",
       "      <th>price</th>\n",
       "    </tr>\n",
       "  </thead>\n",
       "  <tbody>\n",
       "    <tr>\n",
       "      <th>0</th>\n",
       "      <td>Electronic City Phase II</td>\n",
       "      <td>2 BHK</td>\n",
       "      <td>1056</td>\n",
       "      <td>2.00</td>\n",
       "      <td>39.07</td>\n",
       "    </tr>\n",
       "    <tr>\n",
       "      <th>1</th>\n",
       "      <td>Chikka Tirupathi</td>\n",
       "      <td>4 Bedroom</td>\n",
       "      <td>2600</td>\n",
       "      <td>5.00</td>\n",
       "      <td>120.00</td>\n",
       "    </tr>\n",
       "    <tr>\n",
       "      <th>2</th>\n",
       "      <td>Uttarahalli</td>\n",
       "      <td>3 BHK</td>\n",
       "      <td>1440</td>\n",
       "      <td>2.00</td>\n",
       "      <td>62.00</td>\n",
       "    </tr>\n",
       "    <tr>\n",
       "      <th>3</th>\n",
       "      <td>Lingadheeranahalli</td>\n",
       "      <td>3 BHK</td>\n",
       "      <td>1521</td>\n",
       "      <td>3.00</td>\n",
       "      <td>95.00</td>\n",
       "    </tr>\n",
       "    <tr>\n",
       "      <th>4</th>\n",
       "      <td>Kothanur</td>\n",
       "      <td>2 BHK</td>\n",
       "      <td>1200</td>\n",
       "      <td>2.00</td>\n",
       "      <td>51.00</td>\n",
       "    </tr>\n",
       "  </tbody>\n",
       "</table>\n",
       "</div>"
      ],
      "text/plain": [
       "                   location       size total_sqft  bath  price\n",
       "0  Electronic City Phase II      2 BHK       1056  2.00  39.07\n",
       "1          Chikka Tirupathi  4 Bedroom       2600  5.00 120.00\n",
       "2               Uttarahalli      3 BHK       1440  2.00  62.00\n",
       "3        Lingadheeranahalli      3 BHK       1521  3.00  95.00\n",
       "4                  Kothanur      2 BHK       1200  2.00  51.00"
      ]
     },
     "execution_count": 10,
     "metadata": {},
     "output_type": "execute_result"
    }
   ],
   "source": [
    "#removing unwanted features\n",
    "df1=df.drop(['area_type','availability','society','balcony'],axis='columns') # new dataframe after removing unwanted features\n",
    "df1.head()"
   ]
  },
  {
   "cell_type": "code",
   "execution_count": 11,
   "metadata": {},
   "outputs": [],
   "source": [
    "# data cleaning by removing row with NaN (Not A Number)\n",
    "#df1.isnull().sum() to count the number of missing values in each column\n",
    "# print(df1.isnull().sum())\n",
    "\n",
    "# defined to extract the numerical value from the 'size' column\n",
    "def changeToNumber(row):\n",
    "    return int(row['size'].split(' ')[0])\n",
    "# removing rows with NaN vallue\n",
    "df1=df1.dropna(axis=0)\n",
    "df1.head()\n",
    "df1['size'].unique()\n",
    "df1['bhk']=df1.apply(changeToNumber,axis=1)\n",
    "# print(sorted(df1['bhk'].unique()))\n",
    "# df1[df1.bhk > 9]['bhk'].count() \n",
    "# df1=df1[df1.bhk <9] # removing column where bhk>9 "
   ]
  },
  {
   "cell_type": "code",
   "execution_count": 12,
   "metadata": {},
   "outputs": [],
   "source": [
    "# total_sqft have values in string format and some values are given in range \n",
    "# so remove the data which are corrupted\n",
    "def is_float(x):\n",
    "    try:\n",
    "        float(x)\n",
    "    except:\n",
    "        return False\n",
    "    return True\n",
    "df1[~df1['total_sqft'].apply(is_float)].shape\n",
    "#there are 186 record with total_sqft that cannot be converted we need to convert those to float\n",
    "\n",
    "def convert_total_sqft(col):\n",
    "    values=col.split(\"-\")\n",
    "    if len(values)==2:\n",
    "        return (float(values[0])+float(values[1]))/2\n",
    "    try:\n",
    "        return float(col)\n",
    "    except:\n",
    "        return None\n",
    "df2=df1.copy()\n",
    "df2['total_sqft'] = df2['total_sqft'].apply(convert_total_sqft)\n",
    "df2=df2.dropna(axis=0)"
   ]
  },
  {
   "cell_type": "markdown",
   "metadata": {},
   "source": [
    "## Feature Engineering And Dimensional Reduction"
   ]
  },
  {
   "cell_type": "code",
   "execution_count": 13,
   "metadata": {},
   "outputs": [
    {
     "name": "stdout",
     "output_type": "stream",
     "text": [
      "1287\n",
      "1047\n"
     ]
    },
    {
     "data": {
      "text/plain": [
       "241"
      ]
     },
     "execution_count": 13,
     "metadata": {},
     "output_type": "execute_result"
    }
   ],
   "source": [
    "# creating new feature price per square feet\n",
    "df2['price_per_sqft']=df2['price']*100000/df2['total_sqft']\n",
    "df2.head()\n",
    "\n",
    "df2.location=df2.location.apply(lambda x:x.strip())\n",
    "location_stats=df2.groupby('location')['location'].agg('count').sort_values(ascending=False)\n",
    "print(len(location_stats))#1287 unique locations and some will only have two or one data point\n",
    "print(len(location_stats[location_stats<=10])) #1047 rown with unique values less than 10 data points\n",
    "\n",
    "location_unique=location_stats[location_stats<=10]\n",
    "def change_to_other(col):\n",
    "    return 'other' if col in location_unique else col\n",
    "    \n",
    "df2['location']=df2.location.apply(change_to_other)\n",
    "len(df2['location'].unique())\n"
   ]
  },
  {
   "cell_type": "markdown",
   "metadata": {},
   "source": [
    "## Outliers Removal"
   ]
  },
  {
   "cell_type": "code",
   "execution_count": 24,
   "metadata": {},
   "outputs": [
    {
     "name": "stdout",
     "output_type": "stream",
     "text": [
      "(12456, 7)\n"
     ]
    },
    {
     "data": {
      "text/plain": [
       "(10242, 7)"
      ]
     },
     "execution_count": 24,
     "metadata": {},
     "output_type": "execute_result"
    }
   ],
   "source": [
    "#Finding outliers based on locations. Outliers are data points that are far away from mean\n",
    "def remove_points_outliers(df):\n",
    "    df_out=pd.DataFrame()\n",
    "    for key,subdf in df.groupby('location'):\n",
    "        mean=np.mean(subdf.price_per_sqft)\n",
    "        std=np.std(subdf.price_per_sqft)\n",
    "        subdf_filtered=subdf[(subdf.price_per_sqft>(mean-std)) & (subdf.price_per_sqft<=(mean+std))]  #Use & for element-wise logical operations in pandas Series, NumPy arrays. 'and' keyword will not work\n",
    "        df_out=pd.concat([df_out,subdf_filtered],ignore_index=True)\n",
    "    return df_out\n",
    "\n",
    "df3=df2[df2['total_sqft']/df2.bhk>=300]\n",
    "df3.price_per_sqft.describe()\n",
    "print(df3.shape) \n",
    "df3=remove_points_outliers(df3)\n",
    "df3.shape"
   ]
  },
  {
   "cell_type": "code",
   "execution_count": 31,
   "metadata": {},
   "outputs": [
    {
     "data": {
      "image/png": "[encoded data removed]",
      "text/plain": [
       "<Figure size 1080x720 with 1 Axes>"
      ]
     },
     "metadata": {
      "needs_background": "light"
     },
     "output_type": "display_data"
    }
   ],
   "source": [
    "#let check if the price of the house price are difference while the room are same\n",
    "def plot_scatter_chart(df,location):\n",
    "    bhk2 = df[(df.location==location) & (df.bhk == 2)]\n",
    "    bhk3 = df[(df.location==location) & (df.bhk == 3)]\n",
    "    matplotlib.rcParams['figure.figsize'] = (15,10)\n",
    "    plt.scatter(bhk2.total_sqft,bhk2.price, color ='blue', label ='2 BHK', s = 50)\n",
    "    plt.scatter (bhk3.total_sqft,bhk3.price, marker= '+', label = '3 BHK' , s = 50)\n",
    "    plt.xlabel('Total Square Feet Area')\n",
    "    plt.ylabel('Price')\n",
    "    plt.title('Location')\n",
    "    plt.legend()\n",
    "\n",
    "    \n",
    "plot_scatter_chart(df3, 'Rajaji Nagar')"
   ]
  }
 ],
 "metadata": {
  "kernelspec": {
   "display_name": "Python 3",
   "language": "python",
   "name": "python3"
  },
  "language_info": {
   "codemirror_mode": {
    "name": "ipython",
    "version": 3
   },
   "file_extension": ".py",
   "mimetype": "text/x-python",
   "name": "python",
   "nbconvert_exporter": "python",
   "pygments_lexer": "ipython3",
   "version": "3.8.2"
  }
 },
 "nbformat": 4,
 "nbformat_minor": 2
}
